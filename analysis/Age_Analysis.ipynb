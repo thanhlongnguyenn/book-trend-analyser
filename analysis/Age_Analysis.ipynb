{
    "cells": [
        {
            "attachments": {},
            "cell_type": "markdown",
            "metadata": {},
            "source": [
                "# Age analysis"
            ]
        },
        {
            "attachments": {},
            "cell_type": "markdown",
            "metadata": {},
            "source": [
                "### Import libraries"
            ]
        },
        {
            "cell_type": "code",
            "execution_count": 2,
            "metadata": {},
            "outputs": [],
            "source": [
                "import pandas as pd\n",
                "import matplotlib.pyplot as plt\n",
                "import numpy as np\n",
                "import pandas as pd\n",
                "import matplotlib.pyplot as plt\n",
                "from sklearn.metrics import normalized_mutual_info_score\n",
                "from textblob import Word\n",
                "import json\n",
                "import re\n",
                "from nltk.corpus import stopwords\n",
                "from math import log"
            ]
        },
        {
            "attachments": {},
            "cell_type": "markdown",
            "metadata": {},
            "source": [
                "### Load data"
            ]
        },
        {
            "cell_type": "code",
            "execution_count": 3,
            "metadata": {},
            "outputs": [
                {
                    "data": {
                        "text/html": [
                            "<div>\n",
                            "<style scoped>\n",
                            "    .dataframe tbody tr th:only-of-type {\n",
                            "        vertical-align: middle;\n",
                            "    }\n",
                            "\n",
                            "    .dataframe tbody tr th {\n",
                            "        vertical-align: top;\n",
                            "    }\n",
                            "\n",
                            "    .dataframe thead th {\n",
                            "        text-align: right;\n",
                            "    }\n",
                            "</style>\n",
                            "<table border=\"1\" class=\"dataframe\">\n",
                            "  <thead>\n",
                            "    <tr style=\"text-align: right;\">\n",
                            "      <th></th>\n",
                            "      <th>User-ID</th>\n",
                            "      <th>ISBN</th>\n",
                            "      <th>Book-Rating</th>\n",
                            "      <th>User-Country</th>\n",
                            "      <th>User-Age</th>\n",
                            "    </tr>\n",
                            "  </thead>\n",
                            "  <tbody>\n",
                            "    <tr>\n",
                            "      <th>0</th>\n",
                            "      <td>276744</td>\n",
                            "      <td>038550120X</td>\n",
                            "      <td>7</td>\n",
                            "      <td>united states</td>\n",
                            "      <td>38</td>\n",
                            "    </tr>\n",
                            "    <tr>\n",
                            "      <th>1</th>\n",
                            "      <td>276754</td>\n",
                            "      <td>0684867621</td>\n",
                            "      <td>8</td>\n",
                            "      <td>canada</td>\n",
                            "      <td>19</td>\n",
                            "    </tr>\n",
                            "    <tr>\n",
                            "      <th>2</th>\n",
                            "      <td>276755</td>\n",
                            "      <td>0451166892</td>\n",
                            "      <td>5</td>\n",
                            "      <td>germany</td>\n",
                            "      <td>32</td>\n",
                            "    </tr>\n",
                            "    <tr>\n",
                            "      <th>3</th>\n",
                            "      <td>276762</td>\n",
                            "      <td>0380711524</td>\n",
                            "      <td>5</td>\n",
                            "      <td>germany</td>\n",
                            "      <td>25</td>\n",
                            "    </tr>\n",
                            "    <tr>\n",
                            "      <th>4</th>\n",
                            "      <td>276772</td>\n",
                            "      <td>0553572369</td>\n",
                            "      <td>7</td>\n",
                            "      <td>germany</td>\n",
                            "      <td>36</td>\n",
                            "    </tr>\n",
                            "    <tr>\n",
                            "      <th>...</th>\n",
                            "      <td>...</td>\n",
                            "      <td>...</td>\n",
                            "      <td>...</td>\n",
                            "      <td>...</td>\n",
                            "      <td>...</td>\n",
                            "    </tr>\n",
                            "    <tr>\n",
                            "      <th>204159</th>\n",
                            "      <td>276688</td>\n",
                            "      <td>0892966548</td>\n",
                            "      <td>10</td>\n",
                            "      <td>united states</td>\n",
                            "      <td>47</td>\n",
                            "    </tr>\n",
                            "    <tr>\n",
                            "      <th>204160</th>\n",
                            "      <td>276688</td>\n",
                            "      <td>1551669315</td>\n",
                            "      <td>6</td>\n",
                            "      <td>united states</td>\n",
                            "      <td>47</td>\n",
                            "    </tr>\n",
                            "    <tr>\n",
                            "      <th>204161</th>\n",
                            "      <td>276704</td>\n",
                            "      <td>0345386108</td>\n",
                            "      <td>6</td>\n",
                            "      <td>united states</td>\n",
                            "      <td>35</td>\n",
                            "    </tr>\n",
                            "    <tr>\n",
                            "      <th>204162</th>\n",
                            "      <td>276704</td>\n",
                            "      <td>0743211383</td>\n",
                            "      <td>7</td>\n",
                            "      <td>united states</td>\n",
                            "      <td>35</td>\n",
                            "    </tr>\n",
                            "    <tr>\n",
                            "      <th>204163</th>\n",
                            "      <td>276709</td>\n",
                            "      <td>0515107662</td>\n",
                            "      <td>10</td>\n",
                            "      <td>united states</td>\n",
                            "      <td>38</td>\n",
                            "    </tr>\n",
                            "  </tbody>\n",
                            "</table>\n",
                            "<p>204164 rows × 5 columns</p>\n",
                            "</div>"
                        ],
                        "text/plain": [
                            "        User-ID        ISBN  Book-Rating   User-Country  User-Age\n",
                            "0        276744  038550120X            7  united states        38\n",
                            "1        276754  0684867621            8         canada        19\n",
                            "2        276755  0451166892            5        germany        32\n",
                            "3        276762  0380711524            5        germany        25\n",
                            "4        276772  0553572369            7        germany        36\n",
                            "...         ...         ...          ...            ...       ...\n",
                            "204159   276688  0892966548           10  united states        47\n",
                            "204160   276688  1551669315            6  united states        47\n",
                            "204161   276704  0345386108            6  united states        35\n",
                            "204162   276704  0743211383            7  united states        35\n",
                            "204163   276709  0515107662           10  united states        38\n",
                            "\n",
                            "[204164 rows x 5 columns]"
                        ]
                    },
                    "execution_count": 3,
                    "metadata": {},
                    "output_type": "execute_result"
                }
            ],
            "source": [
                "ratings = pd.read_csv('BX-Ratings-Clean.csv')\n",
                "ratings"
            ]
        },
        {
            "attachments": {},
            "cell_type": "markdown",
            "metadata": {},
            "source": [
                "### Find mean rating grouped by ages"
            ]
        },
        {
            "cell_type": "code",
            "execution_count": 4,
            "metadata": {},
            "outputs": [
                {
                    "data": {
                        "text/html": [
                            "<div>\n",
                            "<style scoped>\n",
                            "    .dataframe tbody tr th:only-of-type {\n",
                            "        vertical-align: middle;\n",
                            "    }\n",
                            "\n",
                            "    .dataframe tbody tr th {\n",
                            "        vertical-align: top;\n",
                            "    }\n",
                            "\n",
                            "    .dataframe thead th {\n",
                            "        text-align: right;\n",
                            "    }\n",
                            "</style>\n",
                            "<table border=\"1\" class=\"dataframe\">\n",
                            "  <thead>\n",
                            "    <tr style=\"text-align: right;\">\n",
                            "      <th></th>\n",
                            "      <th>Book-Rating</th>\n",
                            "    </tr>\n",
                            "    <tr>\n",
                            "      <th>User-Age</th>\n",
                            "      <th></th>\n",
                            "    </tr>\n",
                            "  </thead>\n",
                            "  <tbody>\n",
                            "    <tr>\n",
                            "      <th>0</th>\n",
                            "      <td>7.819048</td>\n",
                            "    </tr>\n",
                            "    <tr>\n",
                            "      <th>1</th>\n",
                            "      <td>7.533835</td>\n",
                            "    </tr>\n",
                            "    <tr>\n",
                            "      <th>2</th>\n",
                            "      <td>7.235294</td>\n",
                            "    </tr>\n",
                            "    <tr>\n",
                            "      <th>3</th>\n",
                            "      <td>8.000000</td>\n",
                            "    </tr>\n",
                            "    <tr>\n",
                            "      <th>4</th>\n",
                            "      <td>7.871795</td>\n",
                            "    </tr>\n",
                            "    <tr>\n",
                            "      <th>...</th>\n",
                            "      <td>...</td>\n",
                            "    </tr>\n",
                            "    <tr>\n",
                            "      <th>101</th>\n",
                            "      <td>8.217391</td>\n",
                            "    </tr>\n",
                            "    <tr>\n",
                            "      <th>103</th>\n",
                            "      <td>7.076087</td>\n",
                            "    </tr>\n",
                            "    <tr>\n",
                            "      <th>104</th>\n",
                            "      <td>7.352941</td>\n",
                            "    </tr>\n",
                            "    <tr>\n",
                            "      <th>108</th>\n",
                            "      <td>6.000000</td>\n",
                            "    </tr>\n",
                            "    <tr>\n",
                            "      <th>116</th>\n",
                            "      <td>7.269231</td>\n",
                            "    </tr>\n",
                            "  </tbody>\n",
                            "</table>\n",
                            "<p>98 rows × 1 columns</p>\n",
                            "</div>"
                        ],
                        "text/plain": [
                            "          Book-Rating\n",
                            "User-Age             \n",
                            "0            7.819048\n",
                            "1            7.533835\n",
                            "2            7.235294\n",
                            "3            8.000000\n",
                            "4            7.871795\n",
                            "...               ...\n",
                            "101          8.217391\n",
                            "103          7.076087\n",
                            "104          7.352941\n",
                            "108          6.000000\n",
                            "116          7.269231\n",
                            "\n",
                            "[98 rows x 1 columns]"
                        ]
                    },
                    "execution_count": 4,
                    "metadata": {},
                    "output_type": "execute_result"
                }
            ],
            "source": [
                "mean_rating = ratings.groupby('User-Age')['Book-Rating'].mean()\n",
                "mean_rating = pd.DataFrame(mean_rating)\n",
                "mean_rating"
            ]
        },
        {
            "cell_type": "markdown",
            "metadata": {},
            "source": [
                "## User age vs rating\n",
                "We kinda already get this from the clustering though so maybe not necessary"
            ]
        },
        {
            "cell_type": "code",
            "execution_count": 5,
            "metadata": {},
            "outputs": [
                {
                    "data": {
                        "text/plain": [
                            "<matplotlib.collections.PathCollection at 0x15edf3590>"
                        ]
                    },
                    "execution_count": 5,
                    "metadata": {},
                    "output_type": "execute_result"
                },
                {
                    "data": {
                        "image/png": "[encoded data removed]",
                        "text/plain": [
                            "<Figure size 640x480 with 1 Axes>"
                        ]
                    },
                    "metadata": {},
                    "output_type": "display_data"
                }
            ],
            "source": [
                "plt.scatter(mean_rating.index, mean_rating[\"Book-Rating\"])"
            ]
        },
        {
            "cell_type": "markdown",
            "metadata": {},
            "source": [
                "## Age distribution\n",
                "Number of Reviews vs Age of Reviewers"
            ]
        },
        {
            "cell_type": "code",
            "execution_count": null,
            "metadata": {},
            "outputs": [],
            "source": [
                "# calculating range\n",
                "max_age = max(ratings[\"User-Age\"])\n",
                "min_age = min(ratings[\"User-Age\"])\n",
                "\n",
                "# calculating mean age\n",
                "mean_age = ratings[\"User-Age\"].mean()\n",
                "\n",
                "print(f\"Max: {max_age}\")\n",
                "print(f\"Min: {min_age}\")\n",
                "print(f\"Mean: {mean_age}\")"
            ]
        },
        {
            "cell_type": "code",
            "execution_count": 19,
            "metadata": {},
            "outputs": [
                {
                    "data": {
                        "image/png": "[encoded data removed]",
                        "text/plain": [
                            "<Figure size 640x480 with 1 Axes>"
                        ]
                    },
                    "metadata": {},
                    "output_type": "display_data"
                }
            ],
            "source": [
                "plt.hist(ratings[\"User-Age\"], bins=20, color='lightgreen', edgecolor='black')\n",
                "plt.title(\"Number of Reviews vs Age of Reviewers\")\n",
                "plt.xlabel(\"Age of Reviewers\")\n",
                "plt.ylabel(\"Number of Reviews\")\n",
                "plt.show()\n",
                "plt.close()"
            ]
        },
        {
            "cell_type": "code",
            "execution_count": 20,
            "metadata": {},
            "outputs": [
                {
                    "data": {
                        "image/png": "[encoded data removed]",
                        "text/plain": [
                            "<Figure size 1000x600 with 1 Axes>"
                        ]
                    },
                    "metadata": {},
                    "output_type": "display_data"
                }
            ],
            "source": [
                "plt.figure(figsize=(10,6))\n",
                "plt.boxplot(ratings[\"User-Age\"], vert=False)\n",
                "plt.xlabel('Age Frequency')\n",
                "plt.title('Box Plot of Age Frequency')\n",
                "plt.show()\n",
                "plt.close()"
            ]
        }
    ],
    "metadata": {
        "kernelspec": {
            "display_name": "Python 3 (ipykernel)",
            "language": "python",
            "name": "python3"
        },
        "language_info": {
            "codemirror_mode": {
                "name": "ipython",
                "version": 3
            },
            "file_extension": ".py",
            "mimetype": "text/x-python",
            "name": "python",
            "nbconvert_exporter": "python",
            "pygments_lexer": "ipython3",
            "version": "3.11.5"
        }
    },
    "nbformat": 4,
    "nbformat_minor": 2
}
