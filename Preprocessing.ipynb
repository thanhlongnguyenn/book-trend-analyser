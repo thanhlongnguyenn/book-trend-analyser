{
 "cells": [
  {
   "cell_type": "markdown",
   "metadata": {},
   "source": [
    "# Preprocessing"
   ]
  },
  {
   "cell_type": "code",
   "execution_count": 2,
   "metadata": {},
   "outputs": [],
   "source": [
    "# load in libraries \n",
    "import numpy as np\n",
    "import pandas as pd\n",
    "import matplotlib.pyplot as plt\n",
    "from sklearn.impute import SimpleImputer\n",
    "from textblob import Word\n",
    "import json\n",
    "import re\n",
    "from nltk.corpus import stopwords\n",
    "from math import log\n",
    "import pandas as pd\n",
    "import re\n",
    "from unidecode import unidecode \n",
    "\n",
    "# read in files we want to use\n",
    "users_df = pd.read_csv(\"BX-Users.csv\")\n",
    "books_df = pd.read_csv(\"BX-Books.csv\")\n",
    "ratings_df = pd.read_csv(\"BX-Ratings.csv\")\n",
    "world_countries_s = (pd.read_csv(\"World-Countries.csv\")).iloc[:, 0]"
   ]
  },
  {
   "cell_type": "markdown",
   "metadata": {},
   "source": [
    "## Cleaning Data"
   ]
  },
  {
   "cell_type": "markdown",
   "metadata": {},
   "source": [
    "### Clean ISBNs\n",
    "Here, we'll remove any records that have an invalid ISBN"
   ]
  },
  {
   "cell_type": "code",
   "execution_count": 3,
   "metadata": {},
   "outputs": [],
   "source": [
    "# Check that the ISBN's are valid\n",
    "def validateISBN(isbn: str):\n",
    "    '''\n",
    "    returns True if the isbn is valid and False otherwise\n",
    "    '''\n",
    "    # Get only letters or digits from the ISBN by removing the possible \n",
    "    # hyphens and spaces\n",
    "    isbn = isbn.replace('-', '').replace(' ', '')\n",
    "    \n",
    "    # Verify the ISBN is the right length (either 10 or 13)\n",
    "    if len(isbn) not in [10, 13]:\n",
    "        return False\n",
    "    \n",
    "    # Verify ISBN for the case it's of length 10\n",
    "    if (len(isbn)==10):\n",
    "        digit_sum = 0\n",
    "        for i in range(9): \n",
    "            # the first 9 characters must be digits\n",
    "            if isbn[i].isdigit() and (0 <= int(isbn[i]) <= 9): \n",
    "                digit_sum += int(isbn[i]) * (10 - i)\n",
    "            elif not isbn[i].isdigit():\n",
    "                return False\n",
    "        if isbn[9] == 'X':\n",
    "            # X is worth 10\n",
    "            digit_sum += 10\n",
    "        elif isbn[9].isdigit():\n",
    "            digit_sum += int(isbn[9])\n",
    "            # check that the sum of all digits is divisible by 11\n",
    "        return (digit_sum % 11 == 0)\n",
    "    \n",
    "    # Verfiy ISBN for the case it's of length 13\n",
    "    else:\n",
    "        # all the characters must be digits\n",
    "        if isbn.isdigit() == False:\n",
    "            return False\n",
    "        # now we'll check the rest of the isbn's\n",
    "        digit_sum = 0\n",
    "        for i in range(12):\n",
    "            if i%2==0:\n",
    "                digit_sum += isbn[i]\n",
    "            else:\n",
    "                digit_sum += isbn[i]*3\n",
    "        digit_sum = 10 - digit_sum if digit_sum != 0 else 0\n",
    "        return digit_sum == int(isbn[-1])\n",
    "    "
   ]
  },
  {
   "cell_type": "markdown",
   "metadata": {},
   "source": [
    "#### Clean ISBNs in books_df"
   ]
  },
  {
   "cell_type": "code",
   "execution_count": 4,
   "metadata": {},
   "outputs": [
    {
     "name": "stdout",
     "output_type": "stream",
     "text": [
      "There are 1 records with invalid ISBNs\n",
      "\n",
      "The invalid ISBNs are:\n",
      "\n",
      "7399    039592720x\n",
      "Name: ISBN, dtype: object\n"
     ]
    }
   ],
   "source": [
    "# Find the valid isbns in the new books csv\n",
    "invalid_isbn_condition = (books_df[\"ISBN\"].apply(validateISBN)==False)\n",
    "\n",
    "# Let's see how many invalid isbn's there are and they are:\n",
    "invalid_records = books_df[invalid_isbn_condition]\n",
    "print(f\"There are {len(invalid_records)} records with invalid ISBNs\\n\")\n",
    "print(f\"The invalid ISBNs are:\\n\")\n",
    "print(invalid_records[\"ISBN\"])"
   ]
  },
  {
   "cell_type": "markdown",
   "metadata": {},
   "source": [
    "We see that there's only one invalid ISBN at records 7399 and the ISBN is only invalid because there's a lowercase 'x'. We'll manually fix it to be an uppercase 'X'"
   ]
  },
  {
   "cell_type": "code",
   "execution_count": 5,
   "metadata": {},
   "outputs": [],
   "source": [
    "books_df.loc[7399, \"ISBN\"] = \"039592720X\""
   ]
  },
  {
   "cell_type": "markdown",
   "metadata": {},
   "source": [
    "#### Clean ISBNs in ratings_df"
   ]
  },
  {
   "cell_type": "code",
   "execution_count": 6,
   "metadata": {},
   "outputs": [
    {
     "name": "stdout",
     "output_type": "stream",
     "text": [
      "There are 4 records with invalid ISBNs\n",
      "\n",
      "The invalid ISBNs are:\n",
      "\n",
      "72566     039592720x\n",
      "106228    039592720x\n",
      "140240    039592720x\n",
      "155055    039592720x\n",
      "Name: ISBN, dtype: object\n"
     ]
    }
   ],
   "source": [
    "# Find the valid isbns in the new books csv\n",
    "invalid_isbn_condition = (ratings_df[\"ISBN\"].apply(validateISBN)==False)\n",
    "\n",
    "# Let's see how many invalid isbn's there are and they are:\n",
    "invalid_records = ratings_df[invalid_isbn_condition]\n",
    "print(f\"There are {len(invalid_records)} records with invalid ISBNs\\n\")\n",
    "print(f\"The invalid ISBNs are:\\n\")\n",
    "print(invalid_records[\"ISBN\"])"
   ]
  },
  {
   "cell_type": "markdown",
   "metadata": {},
   "source": [
    "Again, we see that the invalid ISBN's are only invalid because they have a lowercase 'x' instead of an uppercase 'X'. We'll just manually fix this."
   ]
  },
  {
   "cell_type": "code",
   "execution_count": 7,
   "metadata": {},
   "outputs": [],
   "source": [
    "ratings_df.loc[72566, \"ISBN\"] = \"039592720X\"\n",
    "ratings_df.loc[106228, \"ISBN\"] = \"039592720X\"\n",
    "ratings_df.loc[140240, \"ISBN\"] = \"039592720x\"\n",
    "ratings_df.loc[155055, \"ISBN\"] = \"039592720X\""
   ]
  },
  {
   "cell_type": "markdown",
   "metadata": {},
   "source": [
    "### Clean year of publication in books_df"
   ]
  },
  {
   "cell_type": "markdown",
   "metadata": {},
   "source": [
    "Check all entries are integer years"
   ]
  },
  {
   "cell_type": "code",
   "execution_count": 8,
   "metadata": {},
   "outputs": [
    {
     "name": "stdout",
     "output_type": "stream",
     "text": [
      "The unique entry types in the publication date features are: [<class 'int'>]\n"
     ]
    }
   ],
   "source": [
    "# Check that all the publication data is integer\n",
    "publication_entry_types = pd.Series()\n",
    "publication_entry_types = books_df['Year-Of-Publication'].apply(type)\n",
    "unique_types = publication_entry_types.unique()\n",
    "print(f\"The unique entry types in the publication date features are: {unique_types}\")"
   ]
  },
  {
   "cell_type": "markdown",
   "metadata": {},
   "source": [
    "Remove any impossible publication years. (i.e., books published in the future)"
   ]
  },
  {
   "cell_type": "code",
   "execution_count": 9,
   "metadata": {},
   "outputs": [],
   "source": [
    "# condition for impossible books\n",
    "impossible_condition = books_df['Year-Of-Publication'] > 2024\n",
    "books_df.loc[impossible_condition, \"Year-Of-Publication\"] = np.nan"
   ]
  },
  {
   "cell_type": "markdown",
   "metadata": {},
   "source": [
    "Remove any publication years that are outliers. \n",
    "Define outliers to be 3std's outside the mean."
   ]
  },
  {
   "cell_type": "code",
   "execution_count": 10,
   "metadata": {},
   "outputs": [],
   "source": [
    "# calculate then mean and standard deviation\n",
    "mean_publish_year = books_df['Year-Of-Publication'].mean()\n",
    "std_publish_year = books_df['Year-Of-Publication'].std()\n",
    "\n",
    "# define the range of which values are acceptable\n",
    "min_accepted_val = mean_publish_year - 3*std_publish_year\n",
    "max_accepted_val = mean_publish_year + 3*std_publish_year\n",
    "out_of_range_condition = ((books_df['Year-Of-Publication'].notna()) & \n",
    "                          (books_df['Year-Of-Publication']<min_accepted_val) \n",
    "                          | (books_df['Year-Of-Publication']>max_accepted_val))\n",
    "\n",
    "# replace any publishing dates outside the accepted range with Nan\n",
    "books_df.loc[out_of_range_condition, \"Year-Of-Publication\"] = np.nan"
   ]
  },
  {
   "cell_type": "markdown",
   "metadata": {},
   "source": [
    "Impute any missing entries with the mean"
   ]
  },
  {
   "cell_type": "code",
   "execution_count": 11,
   "metadata": {},
   "outputs": [
    {
     "name": "stdout",
     "output_type": "stream",
     "text": [
      "There is 317 missing publication years\n"
     ]
    }
   ],
   "source": [
    "# Check if there's any missing publication years\n",
    "print(f\"There is {sum(books_df['Year-Of-Publication'].isna())} missing publication years\")"
   ]
  },
  {
   "cell_type": "code",
   "execution_count": 12,
   "metadata": {},
   "outputs": [],
   "source": [
    "# Find and impute the missing publication year with the mean\n",
    "mean_publication_year = round(books_df['Year-Of-Publication'].mean())\n",
    "books_df['Year-Of-Publication'] = books_df['Year-Of-Publication'].fillna(mean_publication_year)"
   ]
  },
  {
   "cell_type": "code",
   "execution_count": 13,
   "metadata": {},
   "outputs": [],
   "source": [
    "# Now just to make sure everything is clean, we'll integer convert everything\n",
    "books_df['Year-Of-Publication'] = books_df['Year-Of-Publication'].apply(int)"
   ]
  },
  {
   "cell_type": "markdown",
   "metadata": {},
   "source": [
    "### Clean Authors in books_df"
   ]
  },
  {
   "cell_type": "markdown",
   "metadata": {},
   "source": [
    "Some helper functions"
   ]
  },
  {
   "cell_type": "code",
   "execution_count": 14,
   "metadata": {},
   "outputs": [],
   "source": [
    "def delete_punctuation(text):\n",
    "    '''Deletes all punctuation excluding full stops'''\n",
    "    punct = r'[^\\w\\s\\.]'\n",
    "    return re.sub(punct, '', text)\n",
    "\n",
    "def replace_full_stop(text):\n",
    "    '''Replaces full stops with a whitespace. This is to deal with cases \n",
    "    of initials i.e. S.E.Williams'''\n",
    "    full_stop = r'\\.'\n",
    "    return re.sub(full_stop, ' ', text)\n",
    "\n",
    "def delete_middle_names(text):\n",
    "    '''Deletes middle name to create more uniformity between spellings \n",
    "    of author names'''\n",
    "    middle_name = r\"^(\\w+)\\s+(\\w+\\s+)?(\\w+)$\"\n",
    "    return re.sub(middle_name, r\"\\1 \\3\", text)\n",
    "\n",
    "\n",
    "def delete_spaces(text):\n",
    "    '''Deletes all whitespace to uniformise name strings'''\n",
    "    space = r'\\s'\n",
    "    return re.sub(space, '', text)"
   ]
  },
  {
   "cell_type": "markdown",
   "metadata": {},
   "source": [
    "Now actually clean the data"
   ]
  },
  {
   "cell_type": "code",
   "execution_count": 15,
   "metadata": {},
   "outputs": [],
   "source": [
    "#Begin casefolding - remove uppercase letters\n",
    "books_df['Book-Author'] = books_df['Book-Author'].str.lower()\n",
    "\n",
    "#Remove non-ASCII characters and replace with their closest ASCII equivalent\n",
    "#books['Book-Author'] = books['Book-Author'].apply(lambda x: \n",
    "# unidecode(x).replace('?', ''))\n",
    "\n",
    "#Creates a dataframe that contains stepwise columns to reach the final \n",
    "#condensed and cleaned author name spellings\n",
    "#NOTE: Does not work if we apply the steps straight to books['Book-Author'] \n",
    "# so we need to create a separate dataframe\n",
    "edit = pd.DataFrame({'1':books_df['Book-Author']})\n",
    "edit['2'] = books_df['Book-Author'].apply(delete_punctuation)\n",
    "edit['3'] = edit['2'].apply(replace_full_stop)\n",
    "edit['4'] = edit['3'].apply(delete_middle_names)\n",
    "edit['5'] = edit['4'].apply(delete_spaces)\n",
    "\n",
    "books_df['Book-Author'] = edit['5']"
   ]
  },
  {
   "cell_type": "markdown",
   "metadata": {},
   "source": [
    "### Clean Countries in users_df"
   ]
  },
  {
   "cell_type": "markdown",
   "metadata": {},
   "source": [
    "Analyse the data do see what se actually need to clean"
   ]
  },
  {
   "cell_type": "code",
   "execution_count": 16,
   "metadata": {},
   "outputs": [
    {
     "name": "stdout",
     "output_type": "stream",
     "text": [
      "Currently, the unique country entries are:\n",
      "[' afghanistan\"', ' albania\"', ' alderney\"', ' algeria\"', ' america\"', ' angola\"', ' antarctica\"', ' antigua and barbuda\"', ' argentina\"', ' aroostook\"', ' aruba\"', ' australia\"', ' austria\"', ' bahamas\"', ' bahrain\"', ' barbados\"', ' belgium\"', ' belize\"', ' benin\"', ' bermuda\"', ' bolivia\"', ' brazil\"', ' bulgaria\"', ' burma\"', ' c\"', ' camden\"', ' cameroon\"', ' canada\"', ' cananda\"', ' caribbean sea\"', ' catalonia\"', ' catalunya\"', ' cayman islands\"', ' chile\"', ' china\"', ' colombia\"', ' costa rica\"', ' croatia\"', ' csa\"', ' cuba\"', ' cyprus\"', ' czech republic\"', ' denmark\"', ' deutschland\"', ' dominican republic\"', ' ecuador\"', ' egypt\"', ' england\"', ' españa\"', ' estonia\"', ' euskal herria\"', ' everywhere and anywhere\"', ' far away...\"', ' ferrara\"', ' finland\"', ' framingham\"', ' france\"', ' germany\"', ' ghana\"', ' greece\"', ' grenada\"', ' guatemala\"', ' guernsey\"', ' guinea\"', ' honduras\"', ' hong kong\"', ' hungary\"', ' iceland\"', ' india\"', ' indonesia\"', ' iran\"', ' ireland\"', ' israel\"', ' italia\"', ' italy\"', ' jamaica\"', ' japan\"', ' jersey\"', ' k1c7b1\"', ' kazakhstan\"', ' kenya\"', ' kern\"', ' kuwait\"', ' l`italia\"', ' la france\"', ' laos\"', ' latvia\"', ' lkjlj\"', ' los estados unidos de norte america\"', ' luxembourg\"', ' macedonia\"', ' madagascar\"', ' malaysia\"', ' malta\"', ' mauritius\"', ' mexico\"', ' moldova\"', ' mongolia\"', ' morgan\"', ' morocco\"', ' mozambique\"', ' n/a - on the road\"', ' n/a\"', ' nepal\"', ' netherlands\"', ' new zealand\"', ' niger\"', ' nigeria\"', ' norway\"', ' nz\"', ' oman\"', ' orange co\"', ' orense\"', ' pakistan\"', ' palau\"', ' panama\"', ' papua new guinea\"', ' paraguay\"', ' pender\"', ' peru\"', ' petrolwar nation\"', ' philippines\"', ' phillipines\"', ' poland\"', ' portugal\"', ' puerto rico\"', ' qatar\"', ' quit\"', ' republic of panama\"', ' richmond country\"', ' romania\"', ' russia\"', ' rutherford\"', ' saint lucia\"', ' saudi arabia\"', ' scotland\"', ' shelby\"', ' singapore\"', ' slovakia\"', ' slovenia\"', ' south africa\"', ' south korea\"', ' spain\"', ' sri lanka\"', ' st. helena\"', ' st.thomasi\"', ' sweden\"', ' switzerland\"', ' taiwan\"', ' tajikistan\"', ' tanzania\"', ' tdzimi\"', ' thailand\"', ' tonga\"', ' trinidad and tobago\"', ' tunisia\"', ' turkey\"', ' turkmenistan\"', ' u.a.e\"', ' u.k.\"', ' u.s. of a.\"', ' u.s.a.\"', ' u.s.a>\"', ' u.s>\"', ' ua\"', ' ukraine\"', ' united arab emirates\"', ' united kindgonm\"', ' united kingdom\"', ' united staes\"', ' united state\"', ' united states of america\"', ' united states\"', ' universe\"', ' unknown\"', ' urugua\"', ' uruguay\"', ' us\"', ' usa\"', ' van wert\"', ' venezuela\"', ' vietnam\"', ' wales\"', ' worcester\"', ' ysa\"', ' yugoslavia\"', ' zambia\"', ' zimbabwe\"', 'nan']\n",
      "\n",
      "Before cleaning, there are 189 unique country entries\n",
      "\n",
      "The number of records missing a country entry is: 669\n",
      "\n",
      "This means 1.39% of the records are missing a country\n",
      "\n"
     ]
    }
   ],
   "source": [
    "# Let's see how the countries data looks before we clean\n",
    "print(f\"Currently, the unique country entries are:\")\n",
    "print(f\"{sorted(list(users_df['User-Country'].apply(str).unique()))}\\n\")\n",
    "print(f\"Before cleaning, there are {len(users_df['User-Country'].unique())} \" \n",
    "      f\"unique country entries\\n\")\n",
    "\n",
    "# Let's see how many country entries are missing\n",
    "total_records = len(users_df)\n",
    "total_missing = len(users_df.loc[users_df[\"User-Country\"].isna()])\n",
    "print(f\"The number of records missing a country entry is: {total_missing}\\n\")\n",
    "print(f\"This means {total_missing/total_records*100:.2f}% of the records \" \n",
    "      f\"are missing a country\\n\")"
   ]
  },
  {
   "cell_type": "code",
   "execution_count": 17,
   "metadata": {},
   "outputs": [],
   "source": [
    "STOP_WORDS = set(stopwords.words(\"english\")) # a set of english stop words"
   ]
  },
  {
   "cell_type": "markdown",
   "metadata": {},
   "source": [
    "Some Helper Functions:"
   ]
  },
  {
   "cell_type": "code",
   "execution_count": 18,
   "metadata": {},
   "outputs": [],
   "source": [
    "def strip_stopwords(phrase):\n",
    "      '''\n",
    "      Removes english stop words from a given phrase\n",
    "      Note: phrase must be in all lowercase\n",
    "      '''\n",
    "      # split phrase up into separate words so we can detect stop words\n",
    "      words = phrase.split()\n",
    "      # filter out the stop words \n",
    "      important_words = [word for word in words if word not in STOP_WORDS]\n",
    "      #return the important words\n",
    "      return \" \".join(important_words)\n",
    "      \n",
    "def reformat_word(word):\n",
    "    '''\n",
    "    Reformat words to have all punctuation and trailing space stripped, \n",
    "    turn ampersands into the word \"and\" and lowercase everything\n",
    "    '''\n",
    "    # make everything lowercase\n",
    "    final_word = word.lower()\n",
    "    \n",
    "    # Remove punctuation\n",
    "    # Regex pattern that identifies all non letter or white space characters\n",
    "    punctuation_rule = r'[^\\w\\s]'\n",
    "    # removing punctuation\n",
    "    final_word = re.sub(punctuation_rule, '', final_word)\n",
    "    \n",
    "    # Remove stop words\n",
    "    final_word = strip_stopwords(final_word)\n",
    "\n",
    "    # Strip trailing white spaces\n",
    "    final_word = final_word.strip()\n",
    "    \n",
    "    # just need to lowercase everything, then done reformatting!\n",
    "    return final_word\n",
    "\n",
    "def spell_correct_country(phrase):\n",
    "      '''\n",
    "      Tries to spell correct country words using textblob.\n",
    "      Since textblob is not very good at spell checking phrases, we'll have\n",
    "      to split up country names into individual words if they're longer\n",
    "      than one word\n",
    "      \n",
    "      Will return a valid country word if it can, otherwise it will return NaN\n",
    "      '''\n",
    "      world_countries = list((pd.read_csv(\"World-Countries.csv\")).iloc[:, 0])\n",
    "      words = phrase.split()\n",
    "      if (len(words)) == 1:\n",
    "            # we only need to correct one word\n",
    "            \n",
    "            # here's some potential corrections\n",
    "            correction_options = [x[0] for x in Word(words[0]).spellcheck()]\n",
    "            # make sure the corrected words in the format we want\n",
    "            correction_options = [reformat_word(x) for x in correction_options]\n",
    "            \n",
    "            # see if any of the correction options are in our countries\n",
    "            for option in correction_options:\n",
    "                  if option in world_countries:\n",
    "                        # one of the correction options is a valid country\n",
    "                        # return this option\n",
    "                        return option\n",
    "                  else:\n",
    "                        # we couldn't find a valid correction :(\n",
    "                        return np.nan\n",
    "      else:\n",
    "            # we need to correct each word individually\n",
    "            corrected_words = []\n",
    "            for word in words:\n",
    "                  # find the best spelling correction of the word\n",
    "                  corrected_word = Word(word).correct()\n",
    "                  # reformat to lowercases, removed punctuation\n",
    "                  # and add it to the corrected words list\n",
    "                  corrected_words.append(reformat_word(corrected_word))\n",
    "            # now we recombine all the corrected words\n",
    "            final_correction = ' '.join(corrected_words)\n",
    "            # check if the final corrected word is a valid country and return\n",
    "            if final_correction in world_countries:\n",
    "                  # yes! the correction is a valid country\n",
    "                  return final_correction\n",
    "            else:\n",
    "                  # after everything, we still couldn't obtain a valid country\n",
    "                  return np.nan"
   ]
  },
  {
   "cell_type": "markdown",
   "metadata": {},
   "source": [
    "The actual function to clean the data:"
   ]
  },
  {
   "cell_type": "code",
   "execution_count": 19,
   "metadata": {},
   "outputs": [],
   "source": [
    "def clean_countries(user_data):\n",
    "      '''\n",
    "      cleans up the country feature in a user_data dataframe and returns the \n",
    "      cleaned dataframe\n",
    "      '''\n",
    "      # Make a dictionary of common country acronyms or alternative spellings after \n",
    "      # a quick observation of the data\n",
    "      with open(\"Popular-Alternative-Country-Names.json\", \"r\") as file:\n",
    "            alt_country_names = json.load(file)\n",
    "\n",
    "      # Add a cloumn to the dataframe verifying if each record's country entry is\n",
    "      # cleaned\n",
    "      user_data[\"Clean-Complete\"] = False\n",
    "\n",
    "      # here's how we'll call the records with country entries yet to clean \n",
    "      uncleaned_condition = user_data[\"Clean-Complete\"] == False\n",
    "\n",
    "      # MARK ANY RECORDS WE DON'T NEED TO FIX\n",
    "\n",
    "      # Any country entries that are NaN will be considered complete, we won't\n",
    "      # try impute the country here as it only adds confusion to our analysis\n",
    "      # and won't make the data easier to work with\n",
    "      user_data.loc[user_data[\"User-Country\"].isna(),\"Clean-Complete\"] = True\n",
    "      # reupdate the uncleaned_condition\n",
    "      uncleaned_condition = user_data[\"Clean-Complete\"] == False\n",
    "\n",
    "      # REFORMAT REMAINING RECORDS TO BE EASIER TO WORK WITH\n",
    "\n",
    "      # We'll now reformat the country entries to have all punctuation and \n",
    "      # trailing space stripped, turn ampersands into the word \"and\" and \n",
    "      # lowercase everything\n",
    "      user_data.loc[uncleaned_condition, \"User-Country\"] = user_data.loc[\n",
    "                  uncleaned_condition, \"User-Country\"].apply(str).apply(\n",
    "                                                            reformat_word)\n",
    "\n",
    "      # Check the country entries to see if they're a valid country. If yes, \n",
    "      # change \"clean-Complete\" tag to True\n",
    "      valid_country_condition = user_data[\"User-Country\"].isin(world_countries_s)\n",
    "      user_data.loc[uncleaned_condition & valid_country_condition, \n",
    "                    \"Clean-Complete\"] = True\n",
    "      # reupdate the uncleaned_condition\n",
    "      uncleaned_condition = user_data[\"Clean-Complete\"] == False\n",
    "\n",
    "      ## CONVERTING ACRONYMS TO FULL COUNTRY NAMES\n",
    "\n",
    "      # Find and convert as many acronym country entries into the formal country name\n",
    "      # Here's how we'll index for acronymed entries\n",
    "      acronym_detected_condition = user_data[\"User-Country\"].apply(lambda x: x in \n",
    "                                                                  alt_country_names)\n",
    "      # Now we convert the acronym\n",
    "      user_data.loc[acronym_detected_condition, \"User-Country\"] = user_data.loc[\n",
    "            acronym_detected_condition, \"User-Country\"].apply(\n",
    "                  lambda x: alt_country_names[x])\n",
    "      # Tag the record as \"clean-Complete\"=True\n",
    "      user_data.loc[acronym_detected_condition, \"Clean-Complete\"] = True\n",
    "      # reupdate the uncleaned_condition\n",
    "      uncleaned_condition = user_data[\"Clean-Complete\"] == False\n",
    "\n",
    "      ## SPELL CHECK TIME! (Last step!)\n",
    "      # try to spell check all the remaining entries\n",
    "      user_data.loc[uncleaned_condition, \"User-Country\"] = user_data.loc[\n",
    "            uncleaned_condition, \"User-Country\"].apply(spell_correct_country)\n",
    "\n",
    "      # Remove the \"Clean-Complete\" column, we don't need it anymore\n",
    "      user_data = user_data.drop(\"Clean-Complete\", axis=1)\n",
    "      \n",
    "      # Return the cleaned country data\n",
    "      return user_data"
   ]
  },
  {
   "cell_type": "markdown",
   "metadata": {},
   "source": [
    "Okay, now we'll actually clean the countries"
   ]
  },
  {
   "cell_type": "code",
   "execution_count": 20,
   "metadata": {},
   "outputs": [],
   "source": [
    "users_df = clean_countries(users_df)"
   ]
  },
  {
   "cell_type": "markdown",
   "metadata": {},
   "source": [
    "Some final analysis on the cleaned data"
   ]
  },
  {
   "cell_type": "code",
   "execution_count": 21,
   "metadata": {},
   "outputs": [
    {
     "name": "stdout",
     "output_type": "stream",
     "text": [
      "After cleaning, the unique country entries are:\n",
      "['afghanistan', 'albania', 'algeria', 'angola', 'antigua barbuda', 'argentina', 'aruba', 'australia', 'austria', 'bahamas', 'bahrain', 'barbados', 'belgium', 'belize', 'benin', 'bermuda', 'bolivia', 'brazil', 'bulgaria', 'burma', 'cameroon', 'canada', 'cayman islands', 'chile', 'china', 'colombia', 'costa rica', 'croatia', 'cuba', 'cyprus', 'czech republic', 'denmark', 'dominican republic', 'ecuador', 'egypt', 'estonia', 'finland', 'france', 'germany', 'ghana', 'greece', 'grenada', 'guatemala', 'guernsey', 'guinea', 'honduras', 'hong kong', 'hungary', 'iceland', 'india', 'indonesia', 'iran', 'ireland', 'israel', 'italy', 'jamaica', 'japan', 'jersey', 'kazakhstan', 'kenya', 'kuwait', 'laos', 'latvia', 'luxembourg', 'macedonia', 'madagascar', 'malaysia', 'malta', 'mauritius', 'mexico', 'moldova', 'mongolia', 'morocco', 'mozambique', 'nan', 'nepal', 'netherlands', 'new zealand', 'niger', 'nigeria', 'norway', 'oman', 'pakistan', 'palau', 'panama', 'papua new guinea', 'paraguay', 'peru', 'philippines', 'poland', 'portugal', 'puerto rico', 'qatar', 'romania', 'russia', 'saint lucia', 'saudi arabia', 'singapore', 'slovakia', 'slovenia', 'south africa', 'south korea', 'spain', 'sri lanka', 'sweden', 'switzerland', 'taiwan', 'tajikistan', 'tanzania', 'thailand', 'tonga', 'trinidad tobago', 'tunisia', 'turkey', 'turkmenistan', 'ukraine', 'united arab emirates', 'united kingdom', 'united states', 'united states of america', 'uruguay', 'venezuela', 'vietnam', 'zambia', 'zimbabwe']\n",
      "\n",
      "Hence, there are now 125 unique country entries\n",
      "\n",
      "After cleaning, the total number of NaN country entries has risen to 737\n",
      "\n",
      "This means 1.53% of the records are now missing a country\n",
      "\n"
     ]
    }
   ],
   "source": [
    "print(f\"After cleaning, the unique country entries are:\")\n",
    "print(f\"{sorted(list(users_df['User-Country'].apply(str).unique()))}\\n\")\n",
    "print(f\"Hence, there are now {len(users_df['User-Country'].unique())} \" \n",
    "      f\"unique country entries\\n\")\n",
    "total_missing = len(users_df.loc[users_df[\"User-Country\"].isna()])\n",
    "print(f\"After cleaning, the total number of NaN country entries \" \n",
    "      f\"has risen to {total_missing}\\n\")\n",
    "print(f\"This means {total_missing/total_records*100:.2f}% of the records \" \n",
    "      f\"are now missing a country\\n\")"
   ]
  },
  {
   "cell_type": "markdown",
   "metadata": {},
   "source": [
    "### Clean Ages users_df"
   ]
  },
  {
   "cell_type": "code",
   "execution_count": 22,
   "metadata": {},
   "outputs": [],
   "source": [
    "# definition of constants that are string representations of different data \n",
    "# type. Use to tag the data type of each age entry in \"BX-Users.csv\"\n",
    "NAN = \"NaN\"\n",
    "INT = \"int\"\n",
    "STR = \"str\""
   ]
  },
  {
   "cell_type": "markdown",
   "metadata": {},
   "source": [
    "STEP 1: Make sure all the ages are in either an integer format or NaN"
   ]
  },
  {
   "cell_type": "code",
   "execution_count": 23,
   "metadata": {},
   "outputs": [],
   "source": [
    "# make a column saying whether the name entry is Nan, integer, or a \n",
    "# string that needs to be cleaned\n",
    "\n",
    "# initially assume the input of each age entry is a string\n",
    "users_df[\"age_entry_type\"] = pd.Series([STR] * len(users_df))\n",
    "\n",
    "# find the age entries that are Nan and tag them in the \"age_entry_type\" \n",
    "# column\n",
    "nan_age_condition = users_df[\"User-Age\"].isnull()\n",
    "users_df.loc[nan_age_condition, \"age_entry_type\"] = NAN\n",
    "\n",
    "# find the age entries that are integer and indicated them in the \n",
    "# \"age_entry_type\" column\n",
    "num_age_condition = pd.Series([False] * len(users_df))\n",
    "# which non-Nan records have integer entries for ages?\n",
    "is_int_age = (users_df.loc[nan_age_condition==False, \"User-Age\"]\n",
    "                                            .apply(lambda x: x.isdigit()))\n",
    "# which record indices are of integer ages?\n",
    "int_ages_indices = is_int_age[is_int_age].index\n",
    "# update \"age_entry_type\" column to tag integer ages\n",
    "users_df.loc[int_ages_indices, \"age_entry_type\"] = INT\n",
    "\n",
    "# clean up the string entries for the age that come in the formal {%d%d\"}\n",
    "# this is all we have to do to convert all string entries into numbers as it\n",
    "# was found all string entries came in this form\n",
    "str_age_condition = users_df[\"age_entry_type\"] == STR\n",
    "users_df.loc[str_age_condition, \"User-Age\"] = (users_df\n",
    "        .loc[str_age_condition, \"User-Age\"].apply(lambda x: x.strip('\"')))\n",
    "\n",
    "# turn all the now numerical age entries into type int() for analysis\n",
    "users_df.loc[nan_age_condition==False, \"User-Age\"] = (users_df\n",
    "        .loc[nan_age_condition==False, \"User-Age\"].apply(lambda x: int(x)))\n"
   ]
  },
  {
   "cell_type": "markdown",
   "metadata": {},
   "source": [
    "INTERMISSION: \n",
    "\n",
    "Check to see how many entries are NaN, how many are integers, and how many are neither integers nor strings. The goal is for us to only have NaN or integer ages"
   ]
  },
  {
   "cell_type": "code",
   "execution_count": 24,
   "metadata": {},
   "outputs": [
    {
     "name": "stdout",
     "output_type": "stream",
     "text": [
      "NaN count: 18952\n",
      "int count: 29347\n",
      "neither NaN nor int count: 0\n"
     ]
    }
   ],
   "source": [
    "nan_ages_count = len(users_df.loc[nan_age_condition])\n",
    "int_ages_count = sum(users_df.loc[:,\"User-Age\"].apply(lambda x: type(x)==int))\n",
    "neither_nan_nor_int_ages_count = (len(users_df) - nan_ages_count \n",
    "                                    - int_ages_count)\n",
    "print(f\"NaN count: {nan_ages_count}\\nint count: {int_ages_count}\" \n",
    "      f\"\\nneither NaN nor int count: {neither_nan_nor_int_ages_count}\")"
   ]
  },
  {
   "cell_type": "markdown",
   "metadata": {},
   "source": [
    " STEP 2: Find all out of range ages and set age to NaN"
   ]
  },
  {
   "cell_type": "code",
   "execution_count": 25,
   "metadata": {},
   "outputs": [],
   "source": [
    "out_of_range_condition = ((users_df[\"User-Age\"] < 0) | \n",
    "                          (users_df[\"User-Age\"] > 120))\n",
    "users_df.loc[out_of_range_condition, \"User-Age\"] = np.nan"
   ]
  },
  {
   "cell_type": "markdown",
   "metadata": {},
   "source": [
    "STEP 3: Imputation"
   ]
  },
  {
   "cell_type": "code",
   "execution_count": 26,
   "metadata": {},
   "outputs": [],
   "source": [
    "# group users by isbn\n",
    "grouped_users_by_book = ratings_df.groupby(\"ISBN\")\n",
    "# make a series that will store each isbn and its median age\n",
    "unique_isbns = list(grouped_users_by_book.groups.keys())\n",
    "median_age_of_book_s = pd.Series(index=unique_isbns)\n",
    "# compute median age of each book\n",
    "for (isbn, user_rating_info) in grouped_users_by_book:\n",
    "    # find the user records for that book, but within the users_df\n",
    "    users_ids_wanted = list(user_rating_info[\"User-ID\"])\n",
    "    user_records_wanted = users_df[users_df[\"User-ID\"].isin(users_ids_wanted)]\n",
    "    \n",
    "    if user_records_wanted[\"User-Age\"].isna().all():\n",
    "        # all age records for this isbn are Nan, don't calculate the median\n",
    "        median_age = np.nan\n",
    "    else:\n",
    "\t\t# calculate the median age for the book \n",
    "        median_age = user_records_wanted[\"User-Age\"].median()\n",
    "        \n",
    "    # assign the median age to the median_age_of_book series\n",
    "    median_age_of_book_s.loc[isbn] = median_age\n",
    "\n",
    "# compile all books each user has reviewed \n",
    "grouped_books_of_each_user = ratings_df.groupby(\"User-ID\")[\"ISBN\"]\n",
    "\n",
    "# time to impute! For each user that has a Nan age, try to impute in the \n",
    "# median age of the readers from all the books they read\n",
    "\n",
    "# first, here's a list of all the users with a Nan age\n",
    "users_with_missing_age = set(users_df.loc[nan_age_condition, \"User-ID\"])\n",
    "\n",
    "for user, isbns in grouped_books_of_each_user:\n",
    "    if user in users_with_missing_age:\n",
    "        # gather median ages from all books reviewed\n",
    "        ages_of_each_book = median_age_of_book_s[list(isbns)]\n",
    "\n",
    "        if not ages_of_each_book.isna().all():\n",
    "            # calculate the age to impute\n",
    "            imputed_age = ages_of_each_book.median()\n",
    "            # impute the age\n",
    "            users_df.loc[users_df[\"User-ID\"]==user, \"User-Age\"] = imputed_age\n",
    "            # remove user from missing age set\n",
    "            users_with_missing_age.discard(user)\n",
    "\n",
    "# now impute the remaining median ages\n",
    "# calculate the median age of the entire dataset\n",
    "median_age = users_df[\"User-Age\"].median()\n",
    "\n",
    "# impute the median for any users with missing ages\n",
    "imputer = SimpleImputer(strategy=\"median\")\n",
    "age_2d_column = users_df[\"User-Age\"].values.reshape(-1, 1)\n",
    "imputer.fit(age_2d_column)\n",
    "users_df.loc[:,\"User-Age\"] = imputer.transform(age_2d_column)\n",
    "\n",
    "# make sure all ages are integers\n",
    "users_df.loc[:,\"User-Age\"] = users_df.loc[:,\"User-Age\"].apply(round)"
   ]
  },
  {
   "cell_type": "markdown",
   "metadata": {},
   "source": [
    "Done cleaning ages, just drop any misc columns we added to our DataFrame"
   ]
  },
  {
   "cell_type": "code",
   "execution_count": 27,
   "metadata": {},
   "outputs": [],
   "source": [
    "# Done cleaning ages, just drop any misc columns we added to our DataFrame\n",
    "users_df = users_df.drop(\"age_entry_type\", axis=1)"
   ]
  },
  {
   "cell_type": "markdown",
   "metadata": {},
   "source": [
    "### Clean Ratings in ratings_df"
   ]
  },
  {
   "cell_type": "code",
   "execution_count": 28,
   "metadata": {},
   "outputs": [
    {
     "name": "stdout",
     "output_type": "stream",
     "text": [
      "There are 0 missing ratings\n"
     ]
    }
   ],
   "source": [
    "# let's check if any ratings are misisng\n",
    "print(f\"There are {sum(ratings_df['Book-Rating'].isna())} missing ratings\")"
   ]
  },
  {
   "cell_type": "code",
   "execution_count": 29,
   "metadata": {},
   "outputs": [
    {
     "name": "stdout",
     "output_type": "stream",
     "text": [
      "There are 0 ratings out of the range [0, 10]\n"
     ]
    }
   ],
   "source": [
    "# now let's see if any ratings are outside the range [0, 10]\n",
    "out_of_range_condition = ((ratings_df['Book-Rating']>10) | \n",
    "                          (ratings_df['Book-Rating']<0))\n",
    "print(f\"There are {len(ratings_df[out_of_range_condition])} \"\n",
    "      f\"ratings out of the range [0, 10]\")"
   ]
  },
  {
   "cell_type": "markdown",
   "metadata": {},
   "source": [
    "There doesn't seem to be anything obviously wrong with the ratings data, hence we won't be cleaning it any further."
   ]
  },
  {
   "cell_type": "markdown",
   "metadata": {},
   "source": [
    "## Adding new metrics"
   ]
  },
  {
   "cell_type": "markdown",
   "metadata": {},
   "source": [
    "### Country Frequency of Each Book\n",
    "Here we will find the number of unique countries that have reviewed each book and add that value to out books_df"
   ]
  },
  {
   "cell_type": "code",
   "execution_count": 30,
   "metadata": {},
   "outputs": [],
   "source": [
    "def find_user_country(userid):\n",
    "    '''\n",
    "    function for finding the country of a user given their userid\n",
    "    '''\n",
    "    # find the relevant user info\n",
    "    user_country = users_df.loc[users_df[\"User-ID\"]==userid, \"User-Country\"]\n",
    "    \n",
    "    # return the country\n",
    "    if not user_country.empty:\n",
    "        return user_country.item()\n",
    "    \n",
    "    else:\n",
    "        return np.nan"
   ]
  },
  {
   "cell_type": "code",
   "execution_count": 31,
   "metadata": {},
   "outputs": [],
   "source": [
    "# add column to ratings_df called \"User-Country\"\n",
    "ratings_df[\"User-Country\"] = ratings_df.loc[:,\"User-ID\"].apply(find_user_country)\n",
    "\n",
    "# The number of unique countries that have rated each book\n",
    "country_freq_per_book = ratings_df.groupby('ISBN')['User-Country'].nunique()\n",
    "\n",
    "# Turn data into a DataFrame\n",
    "country_freq_per_book_df = country_freq_per_book.reset_index()\n",
    "\n",
    "# Rename the column form \"User-Country\" to \"Country-Freq\"\n",
    "country_freq_per_book_df.rename(columns={\"User-Country\": \"Country-Freq\"}, \n",
    "                                inplace=True)"
   ]
  },
  {
   "cell_type": "markdown",
   "metadata": {},
   "source": [
    "Add the country frequencies to the books dataframe"
   ]
  },
  {
   "cell_type": "code",
   "execution_count": 32,
   "metadata": {},
   "outputs": [],
   "source": [
    "# First add the country frequencies to the books Dataframe\n",
    "books_df = pd.merge(books_df, country_freq_per_book_df, on=\"ISBN\", how=\"left\")\n",
    "# Impute any missing frequencies with 0 (We assume no one has reviewed it)\n",
    "books_df[\"Country-Freq\"] = books_df[\"Country-Freq\"].fillna(0)"
   ]
  },
  {
   "cell_type": "markdown",
   "metadata": {},
   "source": [
    "### Countries of Each Book\n",
    "Here we will find all the unique countries that have reviewed each book and add that value to out books_df"
   ]
  },
  {
   "cell_type": "code",
   "execution_count": 33,
   "metadata": {},
   "outputs": [],
   "source": [
    "# add column to ratings_df called \"User-Country\"\n",
    "ratings_df[\"User-Country\"] = ratings_df.loc[:,\"User-ID\"].apply(find_user_country)\n",
    "\n",
    "# The unique countries that have rated each book\n",
    "countries_per_book = ratings_df.groupby('ISBN')['User-Country'].unique()\n",
    "\n",
    "# Turn data into a DataFrame\n",
    "countries_per_book = countries_per_book.reset_index()\n",
    "\n",
    "# Rename the column form \"User-Country\" to \"Countries\"\n",
    "countries_per_book.rename(columns={\"User-Country\": \"Countries\"}, inplace=True)"
   ]
  },
  {
   "cell_type": "markdown",
   "metadata": {},
   "source": [
    "Add the countries to the books dataframe"
   ]
  },
  {
   "cell_type": "code",
   "execution_count": 34,
   "metadata": {},
   "outputs": [],
   "source": [
    "# First add the country frequencies to the books Dataframe\n",
    "books_df = pd.merge(books_df, countries_per_book, on=\"ISBN\", how=\"left\")\n",
    "# Impute any missing frequencies with 0 (We assume no one has reviewed it)\n",
    "books_df[\"Countries\"] = books_df[\"Countries\"].fillna(0)"
   ]
  },
  {
   "cell_type": "markdown",
   "metadata": {},
   "source": [
    "### Median Age of Each Book\n",
    "Determine Median Age for to Each Book"
   ]
  },
  {
   "cell_type": "code",
   "execution_count": 35,
   "metadata": {},
   "outputs": [],
   "source": [
    "# make a DataFrame with each user's age\n",
    "user_ages = users_df[[\"User-ID\", \"User-Age\"]]\n",
    "\n",
    "# add each user's age to the ratings DataFrame\n",
    "ratings_df = pd.merge(ratings_df, user_ages, on=\"User-ID\", how=\"left\")\n",
    "\n",
    "# find the reviewer ages of each book\n",
    "ages_per_book = ratings_df.groupby(\"ISBN\")[\"User-Age\"]\n",
    "\n",
    "# for each book, calculate the median age\n",
    "median_ages_per_book = ages_per_book.apply(lambda x: round(x.median()))\n",
    "\n",
    "# turn into a dataframe to merge with the rest of books_df\n",
    "median_ages_per_book_df = median_ages_per_book.reset_index()\n",
    "\n",
    "# Rename the column form \"User-Country\" to \"Country-Freq\"\n",
    "median_ages_per_book_df.rename(columns={\"User-Age\": \"Median-Age\"}, inplace=True)"
   ]
  },
  {
   "cell_type": "markdown",
   "metadata": {},
   "source": [
    "Add the median ages to the DataFrame"
   ]
  },
  {
   "cell_type": "code",
   "execution_count": 36,
   "metadata": {},
   "outputs": [],
   "source": [
    "# First add the median ages to the books Dataframe\n",
    "books_df = pd.merge(books_df, median_ages_per_book_df, on=\"ISBN\", how=\"left\")\n",
    "# Impute any missing frequencies with the entire median age\n",
    "overall_median_age = round(books_df[\"Median-Age\"].median())\n",
    "books_df[\"Median-Age\"] = books_df[\"Median-Age\"].fillna(overall_median_age)"
   ]
  },
  {
   "cell_type": "markdown",
   "metadata": {},
   "source": [
    "### Compute Book Popularity"
   ]
  },
  {
   "cell_type": "code",
   "execution_count": 37,
   "metadata": {},
   "outputs": [],
   "source": [
    "def popularity(row, mean_review_freq):\n",
    "    '''\n",
    "    returns the popularity metric of a book given the mean rating of that book, \n",
    "    the total number of ratings that book has, and the mean number of ratings\n",
    "    the books in the dataset has\n",
    "    '''\n",
    "    mean_rating = row[\"Mean-Rating\"]\n",
    "    total_ratings = row[\"Num-Ratings\"]\n",
    "    \n",
    "    ## we chose 20 because we like its slow growth\n",
    "    return mean_rating * log(total_ratings+mean_review_freq)/log(20)  "
   ]
  },
  {
   "cell_type": "markdown",
   "metadata": {},
   "source": [
    "#### Popularity score of each book\n",
    "Find the popularity of each book and add the information to books_df"
   ]
  },
  {
   "cell_type": "code",
   "execution_count": 38,
   "metadata": {},
   "outputs": [],
   "source": [
    "# find both the average ratings for each book and the number of ratings per book\n",
    "ratings_info_per_isbn = ratings_df.groupby(\"ISBN\")[\"Book-Rating\"].agg([\"mean\", \"size\"])\n",
    "\n",
    "# convert to a dataframe\n",
    "ratings_info_per_isbn_df = ratings_info_per_isbn.reset_index()\n",
    "\n",
    "# Rename columns\n",
    "ratings_info_per_isbn_df.columns = [\"ISBN\", \"Mean-Rating\", \"Num-Ratings\"]\n",
    "\n",
    "# Get the average number of ratings the average book has\n",
    "mean_num_ratings = ratings_info_per_isbn_df[\"Num-Ratings\"].mean()\n",
    "\n",
    "# Get the popularity for each book and add it to a column for ratings_info_per_isbn_df\n",
    "ratings_info_per_isbn_df[\"Popularity-Score\"] = ratings_info_per_isbn_df.apply(popularity, args=(mean_num_ratings, ), axis=1)\n",
    "\n",
    "# Now we want to add the information from ratings_info_per_isbn_df into the books_df\n",
    "books_df = pd.merge(books_df, ratings_info_per_isbn_df, on='ISBN', how='left')"
   ]
  },
  {
   "cell_type": "markdown",
   "metadata": {},
   "source": [
    "Check that each book has a popularity score since this is the main feature we'll be working with in our analysis. We don't want any books which are missing this score."
   ]
  },
  {
   "cell_type": "code",
   "execution_count": 39,
   "metadata": {},
   "outputs": [
    {
     "data": {
      "text/plain": [
       "0"
      ]
     },
     "execution_count": 39,
     "metadata": {},
     "output_type": "execute_result"
    }
   ],
   "source": [
    "sum(books_df['Popularity-Score'].isna())"
   ]
  },
  {
   "cell_type": "markdown",
   "metadata": {},
   "source": [
    "#### Popularity score of each author\n",
    "Determine the popularity of each author by the average popularity of all their books. Add this information to the books_df."
   ]
  },
  {
   "cell_type": "code",
   "execution_count": 40,
   "metadata": {},
   "outputs": [],
   "source": [
    "# compute the popularity score of each author\n",
    "author_popularity = books_df.groupby(\"Book-Author\")[\"Popularity-Score\"].mean()\n",
    "\n",
    "# turn into a dataframe\n",
    "author_popularity_df = author_popularity.reset_index()\n",
    "\n",
    "# rename the columns\n",
    "author_popularity_df.columns = [\"Book-Author\", \"Author-Popularity\"]\n",
    "\n",
    "# add the information to books_df\n",
    "books_df = pd.merge(books_df, author_popularity_df, on='Book-Author', how='left')"
   ]
  },
  {
   "cell_type": "markdown",
   "metadata": {},
   "source": [
    "Check that each author has a popularity score since this is the main feature we'll be working with in our analysis. We don't want any authors which are missing this score."
   ]
  },
  {
   "cell_type": "code",
   "execution_count": 41,
   "metadata": {},
   "outputs": [
    {
     "data": {
      "text/plain": [
       "0"
      ]
     },
     "execution_count": 41,
     "metadata": {},
     "output_type": "execute_result"
    }
   ],
   "source": [
    "sum(books_df['Author-Popularity'].isna())"
   ]
  },
  {
   "cell_type": "markdown",
   "metadata": {},
   "source": [
    "## Discretisation"
   ]
  },
  {
   "cell_type": "markdown",
   "metadata": {},
   "source": [
    "#### Discretise Year of Publication"
   ]
  },
  {
   "cell_type": "code",
   "execution_count": 42,
   "metadata": {},
   "outputs": [
    {
     "data": {
      "image/png": "[encoded data removed]",
      "text/plain": [
       "<Figure size 640x480 with 1 Axes>"
      ]
     },
     "metadata": {},
     "output_type": "display_data"
    }
   ],
   "source": [
    "# First let's see how the years of publication is spread to see how we should bin the data\n",
    "publication_year = books_df[\"Year-Of-Publication\"]\n",
    "max_yr = max(books_df[\"Year-Of-Publication\"])\n",
    "min_yr = min(books_df[\"Year-Of-Publication\"])\n",
    "plt.hist(books_df[\"Year-Of-Publication\"], bins=max_yr-min_yr+1, edgecolor='black')\n",
    "plt.title(\"Number of books published over the years\")\n",
    "plt.xlabel(\"Year of Publishing\")\n",
    "plt.ylabel(\"Number of Books\")\n",
    "plt.show()"
   ]
  },
  {
   "cell_type": "code",
   "execution_count": 43,
   "metadata": {},
   "outputs": [
    {
     "name": "stdout",
     "output_type": "stream",
     "text": [
      "The earliest book was published in: 1920\n",
      "The latest book was published in: 2005\n"
     ]
    }
   ],
   "source": [
    "print(f\"The earliest book was published in: {min_yr}\")\n",
    "print(f\"The latest book was published in: {max_yr}\")"
   ]
  },
  {
   "cell_type": "markdown",
   "metadata": {},
   "source": [
    "It seems appropraite to bin the data into 4 equal bin widths. This would give around 20 years per bin. We'll label the bins \"very old\", \"old\", \"recent\", \"very recent\"."
   ]
  },
  {
   "cell_type": "code",
   "execution_count": 44,
   "metadata": {},
   "outputs": [],
   "source": [
    "# choose labels for my bins\n",
    "book_year_categories = [\"very old\", \"old\", \"recent\", \"very recent\"]\n",
    "\n",
    "# bin the data into 4 quantils\n",
    "books_df[\"Year-Of-Publication-Discrete\"] = pd.cut(\n",
    "            books_df[\"Year-Of-Publication\"], bins=4, include_lowest=True, \n",
    "            labels=book_year_categories)"
   ]
  },
  {
   "cell_type": "markdown",
   "metadata": {},
   "source": [
    "#### Discretise Median Age \n",
    "We shall be discretising the median ages in the books dataframe"
   ]
  },
  {
   "cell_type": "code",
   "execution_count": 45,
   "metadata": {},
   "outputs": [],
   "source": [
    "# create age bins, note that ages have been cleaned to range from 0 to 120\n",
    "age_bins = [0, 5, 13, 19, 26, 36, 46, 66, 120]\n",
    "age_labels = [\"baby\", \"child\", \"teen\", \"early-adult\", \"early-middle-age\", \n",
    "              \"middle-age\", \"late-middle-age\", \"senior\"]\n",
    "\n",
    "# add a discretised age column to the DataFrame\n",
    "books_df[\"Median-Age-Discrete\"] = pd.cut(books_df[\"Median-Age\"], bins=age_bins, \n",
    "                                       labels=age_labels, right=False)"
   ]
  },
  {
   "cell_type": "code",
   "execution_count": 46,
   "metadata": {},
   "outputs": [
    {
     "name": "stdout",
     "output_type": "stream",
     "text": [
      "   Median-Age Median-Age-Discrete\n",
      "0          32    early-middle-age\n",
      "1          44          middle-age\n",
      "2          34    early-middle-age\n",
      "3          39          middle-age\n",
      "4          34    early-middle-age\n",
      "5          29    early-middle-age\n",
      "6          31    early-middle-age\n",
      "7          34    early-middle-age\n",
      "8          33    early-middle-age\n",
      "9          37          middle-age\n"
     ]
    }
   ],
   "source": [
    "# check out the new age data\n",
    "print(books_df[[\"Median-Age\", \"Median-Age-Discrete\"]].head(10))"
   ]
  },
  {
   "cell_type": "markdown",
   "metadata": {},
   "source": [
    "#### Discretise Popularity"
   ]
  },
  {
   "cell_type": "code",
   "execution_count": 47,
   "metadata": {},
   "outputs": [
    {
     "data": {
      "image/png": "[encoded data removed]",
      "text/plain": [
       "<Figure size 640x480 with 1 Axes>"
      ]
     },
     "metadata": {},
     "output_type": "display_data"
    }
   ],
   "source": [
    "# First let's see how the popularity's spreadpopularity_score to see how we should bin the data\n",
    "popularity_scores = books_df[\"Popularity-Score\"]\n",
    "max_score = round(max(popularity_scores))\n",
    "min_score = round(min(popularity_scores))\n",
    "plt.hist(books_df[\"Popularity-Score\"], bins=max_score-min_score+1, edgecolor='black')\n",
    "plt.title(\"Frequency of different popularity scores\")\n",
    "plt.xlabel(\"Popularity Score\")\n",
    "plt.ylabel(\"Number of Books with Score\")\n",
    "plt.xticks([i + 0.5 for i in range(min_score, max_score+1)], [str(i) for i in range(min_score, max_score+1)])\n",
    "plt.show()"
   ]
  },
  {
   "cell_type": "markdown",
   "metadata": {},
   "source": [
    "We see that the popularities range from ~2 to ~18, and are not spread equally.\n",
    "It seems fair to put popularity bins as \"low\", \"low-moderate\", \"moderate-high\" and \"high\".\n",
    "We'll split our data into 4 quantiles."
   ]
  },
  {
   "cell_type": "code",
   "execution_count": 48,
   "metadata": {},
   "outputs": [],
   "source": [
    "# choose labels for my bins\n",
    "popularity_categories = [\"low\", \"low-moderate\", \"moderate-high\", \"high\"]\n",
    "\n",
    "# bin the data into 4 quantils\n",
    "books_df[\"Popularity-Score-Discrete\"] = pd.qcut(books_df[\"Popularity-Score\"], \n",
    "                                                q=4, \n",
    "                                                labels=popularity_categories)"
   ]
  },
  {
   "cell_type": "code",
   "execution_count": 49,
   "metadata": {},
   "outputs": [
    {
     "name": "stdout",
     "output_type": "stream",
     "text": [
      "   Popularity-Score Popularity-Score-Discrete\n",
      "0          7.401325              low-moderate\n",
      "1          7.443067              low-moderate\n",
      "2          8.961654                      high\n",
      "3         13.329749                      high\n",
      "4         11.594453                      high\n",
      "5          8.839415                      high\n",
      "6          9.128301                      high\n",
      "7          9.361421                      high\n",
      "8         11.068972                      high\n",
      "9         13.852491                      high\n"
     ]
    }
   ],
   "source": [
    "# check out the new binned data\n",
    "print(books_df[[\"Popularity-Score\", \"Popularity-Score-Discrete\"]].head(10))"
   ]
  },
  {
   "cell_type": "markdown",
   "metadata": {},
   "source": [
    "#### Discretising Country Frequency"
   ]
  },
  {
   "cell_type": "code",
   "execution_count": 50,
   "metadata": {},
   "outputs": [
    {
     "data": {
      "image/png": "[encoded data removed]",
      "text/plain": [
       "<Figure size 640x480 with 1 Axes>"
      ]
     },
     "metadata": {},
     "output_type": "display_data"
    }
   ],
   "source": [
    "# First let's see how the country frequencies are spread to see how we should bin the data\n",
    "country_freqs = books_df[\"Country-Freq\"]\n",
    "max_score = max(country_freqs)\n",
    "min_score = min(country_freqs)\n",
    "plt.hist(country_freqs, bins=max_score-min_score+1, edgecolor='black')\n",
    "plt.title(\"The Number of Countries Reviewing a Book\")\n",
    "plt.xlabel(\"Number of Countries per Book\")\n",
    "plt.ylabel(\"Number of Books\")\n",
    "plt.show()"
   ]
  },
  {
   "cell_type": "markdown",
   "metadata": {},
   "source": [
    "We see that the country frequencies range from 1 to 39, and are not spread equally. There also seems to be a right tail of much higher, but less commonly occuring frequencies.\n",
    "It seems fair to put popularity bins as \"low\", \"low-moderate\", \"moderate-high\" and \"high\".\n",
    "We'll split our data into 4 equal-width bins."
   ]
  },
  {
   "cell_type": "code",
   "execution_count": 51,
   "metadata": {},
   "outputs": [],
   "source": [
    "# choose labels for bins\n",
    "country_freq_categories = [\"low\", \"low-moderate\", \"moderate-high\", \"high\"]\n",
    "\n",
    "# bin the data into 3 quantiles\n",
    "books_df[\"Country-Freq-Discrete\"] = pd.cut(books_df[\"Country-Freq\"], bins=4, \n",
    "                                            include_lowest=True, \n",
    "                                            labels=country_freq_categories)"
   ]
  },
  {
   "cell_type": "markdown",
   "metadata": {},
   "source": [
    "#### Remove all records with a Nan Popularity Score\n",
    "We do this right off the bat since all our analysis will be the popularity score against some other features. We don't want to work with missing popularity scores, so we'll just get rid of them."
   ]
  },
  {
   "cell_type": "code",
   "execution_count": 52,
   "metadata": {},
   "outputs": [],
   "source": [
    "books_df = books_df.dropna(subset=[\"Popularity-Score\"])"
   ]
  },
  {
   "cell_type": "code",
   "execution_count": 53,
   "metadata": {},
   "outputs": [],
   "source": [
    "# Now save the DataFrame as a new CSV file\n",
    "books_df.to_csv(\"BX-Books-Clean.csv\", index=False)\n",
    "users_df.to_csv(\"BX-Users-Clean.csv\", index=False)\n",
    "ratings_df.to_csv(\"BX-Ratings-Clean.csv\", index=False)"
   ]
  }
 ],
 "metadata": {
  "kernelspec": {
   "display_name": "base",
   "language": "python",
   "name": "python3"
  },
  "language_info": {
   "codemirror_mode": {
    "name": "ipython",
    "version": 3
   },
   "file_extension": ".py",
   "mimetype": "text/x-python",
   "name": "python",
   "nbconvert_exporter": "python",
   "pygments_lexer": "ipython3",
   "version": "3.11.5"
  }
 },
 "nbformat": 4,
 "nbformat_minor": 2
}
